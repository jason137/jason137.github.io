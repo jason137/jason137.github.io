{
 "metadata": {
  "name": "",
  "signature": "sha256:43e0cf82d1a74ff4ca32274218b16b57e1fe29d73b6421ed5448351329a55711"
 },
 "nbformat": 3,
 "nbformat_minor": 0,
 "worksheets": [
  {
   "cells": [
    {
     "cell_type": "heading",
     "level": 1,
     "metadata": {},
     "source": [
      "Hey let's approximate pi okay?"
     ]
    },
    {
     "cell_type": "code",
     "collapsed": false,
     "input": [],
     "language": "python",
     "metadata": {},
     "outputs": []
    }
   ],
   "metadata": {}
  }
 ]
}